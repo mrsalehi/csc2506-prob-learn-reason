{
 "cells": [
  {
   "cell_type": "markdown",
   "metadata": {},
   "source": [
    "## Q1: 1D Gaussians"
   ]
  },
  {
   "cell_type": "markdown",
   "metadata": {},
   "source": [
    "**Can the probability density function (pdf) of $X$ ever take values greater than $1$?**\n",
    "\n",
    "yes, it can. In fact the only important thing is the sum of the area under the pdf curve. Also, pdf can not be negative as it is the derivative of the CDF function which is a non-decreasing function."
   ]
  },
  {
   "cell_type": "markdown",
   "metadata": {},
   "source": [
    "**Write the expression for the pdf of a univariate gaussian:**\n",
    "\n",
    "$$f(x) = \\frac{1}{\\sqrt{2\\pi}\\sigma}e^{-\\frac{1}{2}(\\frac{x-\\mu}{\\sigma})^2}$$\n"
   ]
  },
  {
   "cell_type": "markdown",
   "metadata": {},
   "source": [
    "Write the code for the function that computes the pdf at $x$."
   ]
  },
  {
   "cell_type": "code",
   "execution_count": 1,
   "metadata": {},
   "outputs": [],
   "source": [
    "import numpy as np\n",
    "from math import pi"
   ]
  },
  {
   "cell_type": "code",
   "execution_count": 2,
   "metadata": {},
   "outputs": [],
   "source": [
    "def gaussian_pdf(x, mean=0., variance=0.01):\n",
    "    return (1 / (variance * (2 * pi) ** 0.5 )) * np.exp(-0.5 * ((x - mean) / variance) ** 2)"
   ]
  },
  {
   "cell_type": "markdown",
   "metadata": {},
   "source": [
    "**Test your implementation against a standard implementation**:"
   ]
  },
  {
   "cell_type": "code",
   "execution_count": 5,
   "metadata": {},
   "outputs": [],
   "source": [
    "from scipy.stats import norm "
   ]
  },
  {
   "cell_type": "code",
   "execution_count": 8,
   "metadata": {},
   "outputs": [],
   "source": [
    "def test(x, mean, variance):\n",
    "    assert gaussian_pdf(x, mean, variance) == norm.pdf(x, loc=mean, scale=variance)"
   ]
  },
  {
   "cell_type": "code",
   "execution_count": 15,
   "metadata": {},
   "outputs": [],
   "source": [
    "test(2, 0., 1.)\n",
    "test(-0.45, -2, 1)\n",
    "test(3.46, 1.4, 7.8)"
   ]
  },
  {
   "cell_type": "markdown",
   "metadata": {},
   "source": [
    "**What is the value of the pdf at $x=0$? What is probability that $x=0$?**\n",
    "\n",
    "value of pdf at 0 is $\\frac{1}{\\sqrt{2\\pi}\\sigma}$ but the probability of drawing x=0 is zero."
   ]
  },
  {
   "cell_type": "markdown",
   "metadata": {},
   "source": [
    "**Write the transformation that takes $x \\sim \\mathcal{N}(0.,1.)$ to $z \\sim \\mathcal{N}(\\mu, \\sigma^2)$**"
   ]
  },
  {
   "cell_type": "code",
   "execution_count": 6,
   "metadata": {},
   "outputs": [],
   "source": [
    "def transform(x, mu, sigma):\n",
    "    return sigma * x + mu"
   ]
  },
  {
   "cell_type": "markdown",
   "metadata": {},
   "source": [
    "**Write a code to sample from $\\mathcal{N}(\\mu, \\sigma^2)$**:"
   ]
  },
  {
   "cell_type": "code",
   "execution_count": 7,
   "metadata": {},
   "outputs": [],
   "source": [
    "def sample_gaussian(n, mean=0, variance=0.01):\n",
    "    return [transform(np.random.normal(), mean, variance ** 0.5) for _ in range(n)]"
   ]
  },
  {
   "cell_type": "markdown",
   "metadata": {},
   "source": [
    "**Test your implementation by computing statistics on the samples**:"
   ]
  },
  {
   "cell_type": "code",
   "execution_count": 9,
   "metadata": {},
   "outputs": [
    {
     "name": "stdout",
     "output_type": "stream",
     "text": [
      "Yaaay!\n"
     ]
    }
   ],
   "source": [
    "import statistics\n",
    "\n",
    "mean = 10.\n",
    "variance = 1.28\n",
    "\n",
    "sample = sample_gaussian(100000, mean=mean, variance=variance)\n",
    "\n",
    "assert abs(statistics.mean(sample) - mean) < 1e-2\n",
    "assert abs(statistics.variance(sample) - variance) < 1e-2\n",
    "\n",
    "print('Yaaay!')"
   ]
  },
  {
   "cell_type": "markdown",
   "metadata": {},
   "source": [
    "**Plot pdf and normalized histogram of samples**:"
   ]
  },
  {
   "cell_type": "code",
   "execution_count": 12,
   "metadata": {},
   "outputs": [
    {
     "data": {
      "image/png": "[encoded data removed]",
      "text/plain": [
       "<Figure size 432x288 with 1 Axes>"
      ]
     },
     "metadata": {
      "needs_background": "light"
     },
     "output_type": "display_data"
    }
   ],
   "source": [
    "import matplotlib.pyplot as plt\n",
    "from scipy import stats\n",
    "\n",
    "sample = sample_gaussian(10000, mean=10., variance=2.)\n",
    "plt.hist(sample, density=True, bins=np.arange(3.5, 15.5, 0.25))\n",
    "sigma = variance ** 0.5\n",
    "x = np.linspace(mean - 4 * sigma, mean + 4 * sigma, 100)\n",
    "plt.plot(x, stats.norm.pdf(x, mean, variance))\n",
    "plt.show()"
   ]
  },
  {
   "cell_type": "code",
   "execution_count": null,
   "metadata": {},
   "outputs": [],
   "source": []
  }
 ],
 "metadata": {
  "kernelspec": {
   "display_name": "Python 3",
   "language": "python",
   "name": "python3"
  },
  "language_info": {
   "codemirror_mode": {
    "name": "ipython",
    "version": 3
   },
   "file_extension": ".py",
   "mimetype": "text/x-python",
   "name": "python",
   "nbconvert_exporter": "python",
   "pygments_lexer": "ipython3",
   "version": "3.7.5"
  },
  "toc": {
   "base_numbering": 1,
   "nav_menu": {},
   "number_sections": true,
   "sideBar": true,
   "skip_h1_title": false,
   "title_cell": "Table of Contents",
   "title_sidebar": "Contents",
   "toc_cell": false,
   "toc_position": {},
   "toc_section_display": true,
   "toc_window_display": false
  },
  "varInspector": {
   "cols": {
    "lenName": 16,
    "lenType": 16,
    "lenVar": 40
   },
   "kernels_config": {
    "python": {
     "delete_cmd_postfix": "",
     "delete_cmd_prefix": "del ",
     "library": "var_list.py",
     "varRefreshCmd": "print(var_dic_list())"
    },
    "r": {
     "delete_cmd_postfix": ") ",
     "delete_cmd_prefix": "rm(",
     "library": "var_list.r",
     "varRefreshCmd": "cat(var_dic_list()) "
    }
   },
   "types_to_exclude": [
    "module",
    "function",
    "builtin_function_or_method",
    "instance",
    "_Feature"
   ],
   "window_display": false
  }
 },
 "nbformat": 4,
 "nbformat_minor": 2
}
